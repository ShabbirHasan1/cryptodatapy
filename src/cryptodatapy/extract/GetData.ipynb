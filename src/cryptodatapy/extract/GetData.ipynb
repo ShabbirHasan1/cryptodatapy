{
 "cells": [
  {
   "cell_type": "code",
   "execution_count": 40,
   "id": "6775fa7a",
   "metadata": {},
   "outputs": [],
   "source": [
    "import pandas as pd\n",
    "import numpy as np\n",
    "from typing import Optional\n",
    "from cryptodatapy.extract.datarequest import DataRequest\n",
    "from cryptodatapy.extract.data_vendors.coinmetrics_api import CoinMetrics\n",
    "from cryptodatapy.extract.data_vendors.cryptocompare_api import CryptoCompare\n",
    "from cryptodatapy.extract.data_vendors.glassnode_api import Glassnode\n",
    "from cryptodatapy.extract.data_vendors.tiingo_api import Tiingo\n",
    "from cryptodatapy.extract.libraries.ccxt_api import CCXT\n",
    "from cryptodatapy.extract.libraries.dbnomics_api import DBnomics\n",
    "from cryptodatapy.extract.libraries.investpy_api import InvestPy\n",
    "from cryptodatapy.extract.libraries.pandasdr_api import PandasDataReader"
   ]
  },
  {
   "cell_type": "code",
   "execution_count": 41,
   "id": "acd02e1a",
   "metadata": {},
   "outputs": [],
   "source": [
    "class GetData():\n",
    "    \"\"\"\n",
    "    Retrieves data from selected data source.\n",
    "    \"\"\"\n",
    "\n",
    "    def __init__(self, data_req: DataRequest, api_key: Optional[str] = None):\n",
    "        \"\"\"\n",
    "        Constructor\n",
    "\n",
    "        Parameters\n",
    "        ----------\n",
    "        data_req: DataRequest\n",
    "            Parameters of data request in CryptoDataPy format.\n",
    "        api_key: str\n",
    "            Api key for data source if required.\n",
    "        \"\"\"\n",
    "        self.data_req = data_req\n",
    "        self.api_key = api_key\n",
    "\n",
    "    def get_meta(self, attr: str = None, method: str = None, **kwargs) -> pd.DataFrame:\n",
    "        \"\"\"\n",
    "        Get metadata.\n",
    "\n",
    "        Parameters\n",
    "        ----------\n",
    "        attr: str, {'categories', 'exchanges', 'indexes', 'assets', 'markets', 'market_types', 'fields', 'frequencies',\n",
    "                    'base_url', 'api_key', 'max_obs_per_call', 'rate_limit'}, default assets\n",
    "            Gets the specified attribute or method from the data source object.\n",
    "        method: str, {'get_exchanges_info', 'get_indexes_info', 'get_assets_info', 'get_markets_info',\n",
    "                    'get_fields_info', 'get_frequencies_info', 'get_rate_limit_info'}, default 'assets'}\n",
    "            Gets the specified method from the data source object.\n",
    "\n",
    "        Other Parameters\n",
    "        ----------------\n",
    "        cat: str, optional, default None\n",
    "            Category for which to return metadata, e.g. 'crypto', 'fx', 'rates', 'macro', etc.\n",
    "        exch: str, default 'binance'\n",
    "            Name of exchange for which to return metdata, e.g. 'binance', 'ftx', 'kraken', etc.\n",
    "        data_type: str, {'market', 'on-chain', 'off-chain'}, default None\n",
    "            Type of data for which to return metadata, e.g. 'on-chain', 'market' or 'off-chain'.\n",
    "        as_dict: bool, default False\n",
    "            Returns attribute metadata as dictionary.\n",
    "        as_list: bool, default False\n",
    "            Returns attribute metdata as list.\n",
    "\n",
    "        Returns\n",
    "        -------\n",
    "        meta: Any\n",
    "            Metadata for selected attribute or method.\n",
    "\n",
    "        Examples\n",
    "        --------\n",
    "        >>> data_req = DataRequest(data_source='ccxt')\n",
    "        >>> GetData(data_req).get_meta(attr='exchanges')\n",
    "        '['aax', 'alpaca', 'ascendex', 'bequant', 'bibox', 'bigone', 'binance', 'binancecoinm', 'binanceus', ...]'\n",
    "\n",
    "        >>> data_req = DataRequest(data_source='investpy')\n",
    "        >>> GetData(data_req).get_meta(attr='categories')\n",
    "        '['fx', 'rates', 'eqty', 'cmdty', 'macro']'\n",
    "\n",
    "        >>> data_req = DataRequest(data_source='ccxt')\n",
    "        >>> GetData(data_req).get_meta(method='get_assets_info')\n",
    "        '                   id\t    numericId\t code\tprecision\n",
    "         ticker\n",
    "         1INCH\t        1INCH\t    None\t    1INCH\t    8\n",
    "         1INCHDOWN\t    1INCHDOWN\tNone\t    1INCHDOWN\t8\n",
    "         1INCHUP\t    1INCHUP\t    None\t    1INCHUP\t    8\n",
    "         AAVE\t        AAVE\t    None\t    AAVE\t    8'\n",
    "        \"\"\"\n",
    "        # data source objects\n",
    "        data_source_dict = {'cryptocompare': CryptoCompare, 'coinmetrics': CoinMetrics, 'ccxt': CCXT,\n",
    "                            'glassnode': Glassnode, 'tiingo': Tiingo, 'investpy': InvestPy,\n",
    "                            'dbnomics': DBnomics, 'yahoo': PandasDataReader, 'fred': PandasDataReader,\n",
    "                            'av-daily': PandasDataReader, 'av-forex-daily': PandasDataReader}\n",
    "\n",
    "        # available properties and methods\n",
    "        valid_attr = ['source_type', 'categories', 'exchanges', 'indexes', 'assets', 'markets', 'market_types',\n",
    "                      'fields', 'frequencies', 'base_url', 'api_key', 'max_obs_per_call', 'rate_limit']\n",
    "        valid_meth = ['get_vendors_info', 'get_exchanges_info', 'get_indexes_info', 'get_assets_info',\n",
    "                      'get_markets_info', 'get_fields_info', 'get_frequencies_info', 'get_rate_limit_info',\n",
    "                      'get_news_sources', 'get_news', 'get_top_market_cap_info', 'get_avail_assets_info']\n",
    "\n",
    "        # data source\n",
    "        ds = data_source_dict[self.data_req.data_source]\n",
    "        # instantiate ds obj\n",
    "        if self.api_key is not None:\n",
    "            ds = ds(api_key=self.api_key)\n",
    "        else:\n",
    "            ds = ds()\n",
    "        # get property or method from data source obj\n",
    "        if attr in valid_attr:\n",
    "            meta = getattr(ds, attr)\n",
    "        elif method in valid_meth:\n",
    "            meta = getattr(ds, method)(**kwargs)\n",
    "        else:\n",
    "            raise AttributeError(f\"Select a valid attribute or method. Valid attributes: {valid_attr}.\"\n",
    "                                 f\" Valid methods include: {valid_meth}.\")\n",
    "\n",
    "        return meta\n",
    "\n",
    "    def get_series(self, method: str = 'get_data') -> pd.DataFrame:\n",
    "        \"\"\"\n",
    "        Get requested data.\n",
    "\n",
    "        Parameters\n",
    "        ----------\n",
    "        method: str, {'get_data', 'get_ohlcv', 'get_indexes', 'get_onchain', 'get_social', 'get_trades', 'get_quotes',\n",
    "                      'get_funding_rates', 'get_open_interest', 'get_eqty', 'get_eqty_iex', 'get_etfs', 'get_stocks',\n",
    "                      'get_fx', 'get_rates', 'get_cmdty', 'get_crypto', 'get_macro_series'}, default 'get_data'\n",
    "            Gets the specified method from the data source object.\n",
    "\n",
    "        Returns\n",
    "        -------\n",
    "        df: pd.DataFrame - MultiIndex\n",
    "            DataFrame with DatetimeIndex (level 0), ticker (level 1), and field (cols) values.\n",
    "\n",
    "        Examples\n",
    "        --------\n",
    "        >>> data_req = DataRequest(data_source='ccxt', tickers=['btc', 'eth'], fields=['open', 'high', 'low', 'close',\n",
    "                                   'volume'], freq='d', exch='ftx', start_date='2017-01-01')\n",
    "        >>> GetData(data_req).get_series()\n",
    "        '                    open\thigh\tlow\t    close\tvolume\n",
    "        date\t    ticker\n",
    "        2020-03-28\tBTC\t    6243.25\t6298.5\t6028.0\t6237.5\t3888.9424\n",
    "                    ETH\t    128.995\t133.0\t125.11\t131.04\t1751.65972\n",
    "        2020-03-29\tBTC\t    6233.5\t6262.5\t5869.5\t5876.5\t114076.5831\n",
    "                    ETH\t    130.98\t131.84\t123.81\t124.33\t138449.60906\n",
    "        2020-03-30\tBTC\t    5876.0\t6609.0\t5856.0\t6396.5\t224231.1718'\n",
    "\n",
    "\n",
    "        >>> data_req = DataRequest(data_source='glassnode', tickers=['btc', 'eth'],\n",
    "                                   fields=['add_act', 'tx_count', 'issuance'], freq='d', start_date='2016-01-01')\n",
    "        >>> GetData(data_req).get_series()\n",
    "        '\t\t            add_act\t    tx_count\tissuance\n",
    "        date\t    ticker\n",
    "        2016-01-01\tBTC\t    316489\t    123957\t    0.085386\n",
    "                    ETH\t    2350\t    8232\t    0.133048\n",
    "        2016-01-02\tBTC\t    419389\t    148893\t    0.09197\n",
    "                    ETH\t    2410\t    9164\t    0.140147\n",
    "        2016-01-03\tBTC\t    394047\t    142463\t    0.091947'\n",
    "\n",
    "        >>> data_req = DataRequest(data_source='investpy', tickers=['US_Rates_10Y', 'DE_Rates_10Y', 'JP_Rates_10Y'],\n",
    "                       fields=['open', 'high', 'low', 'close'], freq='d', cat='rates', start_date='1990-01-01')\n",
    "        >>> GetData(data_req).get_series().tail()\n",
    "        '                            open\t high\t low\tclose\n",
    "        date\t    ticker\n",
    "        2022-09-06\tDE_Rates_10Y\t1.5625\t1.636\t1.48\t1.614\n",
    "                    JP_Rates_10Y\t0.238\t0.24\t0.235\t0.24\n",
    "                    US_Rates_10Y\t3.223\t3.355\t3.208\t3.351\n",
    "        2022-09-07\tDE_Rates_10Y\t1.6415\t1.6415\t1.5435\t1.5755\n",
    "                    JP_Rates_10Y\t0.241\t0.244\t0.241\t0.243\n",
    "                    US_Rates_10Y\t3.338\t3.361\t3.29\t3.298'\n",
    "        \"\"\"\n",
    "        # data source objects\n",
    "        data_source_dict = {'cryptocompare': CryptoCompare, 'coinmetrics': CoinMetrics, 'ccxt': CCXT,\n",
    "                            'glassnode': Glassnode, 'tiingo': Tiingo, 'investpy': InvestPy,\n",
    "                            'dbnomics': DBnomics, 'yahoo': PandasDataReader, 'fred': PandasDataReader,\n",
    "                            'av-daily': PandasDataReader, 'av-forex-daily': PandasDataReader}\n",
    "\n",
    "        # data source\n",
    "        ds = data_source_dict[self.data_req.data_source]\n",
    "        # instantiate data source obj\n",
    "        # instantiate ds obj\n",
    "        if self.api_key is not None:\n",
    "            ds = ds(api_key=self.api_key)\n",
    "        else:\n",
    "            ds = ds()\n",
    "        # get data\n",
    "        df = getattr(ds, method)(self.data_req)\n",
    "\n",
    "        return df\n"
   ]
  },
  {
   "cell_type": "code",
   "execution_count": 42,
   "id": "2a72b432",
   "metadata": {},
   "outputs": [],
   "source": [
    "data_req = DataRequest(data_source='glassnode')"
   ]
  },
  {
   "cell_type": "code",
   "execution_count": 43,
   "id": "4d114982",
   "metadata": {},
   "outputs": [
    {
     "name": "stdout",
     "output_type": "stream",
     "text": [
      "0:00:01.964541\n"
     ]
    }
   ],
   "source": [
    "start = datetime.utcnow()\n",
    "meta = GetData(data_req, api_key='28OR9Tqcjtl9nHTVZWsrDCdzG66').get_meta(attr='categories')\n",
    "end = datetime.utcnow() - start\n",
    "print(end)"
   ]
  },
  {
   "cell_type": "code",
   "execution_count": 44,
   "id": "9b577d4d",
   "metadata": {},
   "outputs": [
    {
     "data": {
      "text/plain": [
       "['crypto']"
      ]
     },
     "execution_count": 44,
     "metadata": {},
     "output_type": "execute_result"
    }
   ],
   "source": [
    "meta"
   ]
  },
  {
   "cell_type": "code",
   "execution_count": 45,
   "id": "e673ead0",
   "metadata": {},
   "outputs": [],
   "source": [
    "data_req = DataRequest(data_source='glassnode', fields=['add_act', 'tx_count'], \n",
    "                       freq='d', start_date='1990-01-01')"
   ]
  },
  {
   "cell_type": "code",
   "execution_count": 48,
   "id": "bae15ae4",
   "metadata": {},
   "outputs": [
    {
     "ename": "TypeError",
     "evalue": "Set your api key. Alternatively, you can use the function set_credential which uses keyring to store your api key in DataCredentials.",
     "output_type": "error",
     "traceback": [
      "\u001b[0;31m---------------------------------------------------------------------------\u001b[0m",
      "\u001b[0;31mTypeError\u001b[0m                                 Traceback (most recent call last)",
      "Input \u001b[0;32mIn [48]\u001b[0m, in \u001b[0;36m<cell line: 2>\u001b[0;34m()\u001b[0m\n\u001b[1;32m      1\u001b[0m start \u001b[38;5;241m=\u001b[39m datetime\u001b[38;5;241m.\u001b[39mutcnow()\n\u001b[0;32m----> 2\u001b[0m df \u001b[38;5;241m=\u001b[39m \u001b[43mGetData\u001b[49m\u001b[43m(\u001b[49m\u001b[43mdata_req\u001b[49m\u001b[43m)\u001b[49m\u001b[38;5;241;43m.\u001b[39;49m\u001b[43mget_series\u001b[49m\u001b[43m(\u001b[49m\u001b[43m)\u001b[49m\n\u001b[1;32m      3\u001b[0m end \u001b[38;5;241m=\u001b[39m datetime\u001b[38;5;241m.\u001b[39mutcnow() \u001b[38;5;241m-\u001b[39m start\n\u001b[1;32m      4\u001b[0m \u001b[38;5;28mprint\u001b[39m(end)\n",
      "Input \u001b[0;32mIn [41]\u001b[0m, in \u001b[0;36mGetData.get_series\u001b[0;34m(self, method)\u001b[0m\n\u001b[1;32m    165\u001b[0m     ds \u001b[38;5;241m=\u001b[39m ds(api_key\u001b[38;5;241m=\u001b[39m\u001b[38;5;28mself\u001b[39m\u001b[38;5;241m.\u001b[39mapi_key)\n\u001b[1;32m    166\u001b[0m \u001b[38;5;28;01melse\u001b[39;00m:\n\u001b[0;32m--> 167\u001b[0m     ds \u001b[38;5;241m=\u001b[39m \u001b[43mds\u001b[49m\u001b[43m(\u001b[49m\u001b[43m)\u001b[49m\n\u001b[1;32m    168\u001b[0m \u001b[38;5;66;03m# get data\u001b[39;00m\n\u001b[1;32m    169\u001b[0m df \u001b[38;5;241m=\u001b[39m \u001b[38;5;28mgetattr\u001b[39m(ds, method)(\u001b[38;5;28mself\u001b[39m\u001b[38;5;241m.\u001b[39mdata_req)\n",
      "File \u001b[0;32m~/projects/systamental/cryptodatapy/src/cryptodatapy/extract/data_vendors/glassnode_api.py:74\u001b[0m, in \u001b[0;36mGlassnode.__init__\u001b[0;34m(self, categories, exchanges, indexes, assets, markets, market_types, fields, frequencies, base_url, api_key, max_obs_per_call, rate_limit)\u001b[0m\n\u001b[1;32m     70\u001b[0m DataVendor\u001b[38;5;241m.\u001b[39m\u001b[38;5;21m__init__\u001b[39m(\u001b[38;5;28mself\u001b[39m, categories, exchanges, indexes, assets, markets, market_types, fields,\n\u001b[1;32m     71\u001b[0m                     frequencies, base_url, api_key, max_obs_per_call, rate_limit)\n\u001b[1;32m     73\u001b[0m \u001b[38;5;28;01mif\u001b[39;00m api_key \u001b[38;5;129;01mis\u001b[39;00m \u001b[38;5;28;01mNone\u001b[39;00m:\n\u001b[0;32m---> 74\u001b[0m     \u001b[38;5;28;01mraise\u001b[39;00m \u001b[38;5;167;01mTypeError\u001b[39;00m(\u001b[38;5;124m\"\u001b[39m\u001b[38;5;124mSet your api key. Alternatively, you can use the function set_credential which uses \u001b[39m\u001b[38;5;124m\"\u001b[39m \n\u001b[1;32m     75\u001b[0m                     \u001b[38;5;124m\"\u001b[39m\u001b[38;5;124mkeyring to store your api key in DataCredentials.\u001b[39m\u001b[38;5;124m\"\u001b[39m)\n\u001b[1;32m     76\u001b[0m \u001b[38;5;28mself\u001b[39m\u001b[38;5;241m.\u001b[39massets \u001b[38;5;241m=\u001b[39m \u001b[38;5;28mself\u001b[39m\u001b[38;5;241m.\u001b[39mget_assets_info(as_list\u001b[38;5;241m=\u001b[39m\u001b[38;5;28;01mTrue\u001b[39;00m)\n\u001b[1;32m     77\u001b[0m \u001b[38;5;28mself\u001b[39m\u001b[38;5;241m.\u001b[39mfields \u001b[38;5;241m=\u001b[39m \u001b[38;5;28mself\u001b[39m\u001b[38;5;241m.\u001b[39mget_fields_info(data_type\u001b[38;5;241m=\u001b[39m\u001b[38;5;28;01mNone\u001b[39;00m, as_list\u001b[38;5;241m=\u001b[39m\u001b[38;5;28;01mTrue\u001b[39;00m)\n",
      "\u001b[0;31mTypeError\u001b[0m: Set your api key. Alternatively, you can use the function set_credential which uses keyring to store your api key in DataCredentials."
     ]
    }
   ],
   "source": [
    "start = datetime.utcnow()\n",
    "df = GetData(data_req).get_series()\n",
    "end = datetime.utcnow() - start\n",
    "print(end)"
   ]
  },
  {
   "cell_type": "code",
   "execution_count": 47,
   "id": "f4533970",
   "metadata": {},
   "outputs": [
    {
     "data": {
      "text/html": [
       "<div>\n",
       "<style scoped>\n",
       "    .dataframe tbody tr th:only-of-type {\n",
       "        vertical-align: middle;\n",
       "    }\n",
       "\n",
       "    .dataframe tbody tr th {\n",
       "        vertical-align: top;\n",
       "    }\n",
       "\n",
       "    .dataframe thead th {\n",
       "        text-align: right;\n",
       "    }\n",
       "</style>\n",
       "<table border=\"1\" class=\"dataframe\">\n",
       "  <thead>\n",
       "    <tr style=\"text-align: right;\">\n",
       "      <th></th>\n",
       "      <th></th>\n",
       "      <th>add_act</th>\n",
       "      <th>tx_count</th>\n",
       "    </tr>\n",
       "    <tr>\n",
       "      <th>date</th>\n",
       "      <th>ticker</th>\n",
       "      <th></th>\n",
       "      <th></th>\n",
       "    </tr>\n",
       "  </thead>\n",
       "  <tbody>\n",
       "    <tr>\n",
       "      <th>2009-01-12</th>\n",
       "      <th>BTC</th>\n",
       "      <td>8</td>\n",
       "      <td>7</td>\n",
       "    </tr>\n",
       "    <tr>\n",
       "      <th>2009-01-14</th>\n",
       "      <th>BTC</th>\n",
       "      <td>4</td>\n",
       "      <td>1</td>\n",
       "    </tr>\n",
       "    <tr>\n",
       "      <th>2009-01-15</th>\n",
       "      <th>BTC</th>\n",
       "      <td>14</td>\n",
       "      <td>8</td>\n",
       "    </tr>\n",
       "    <tr>\n",
       "      <th>2009-01-16</th>\n",
       "      <th>BTC</th>\n",
       "      <td>6</td>\n",
       "      <td>2</td>\n",
       "    </tr>\n",
       "    <tr>\n",
       "      <th>2009-01-18</th>\n",
       "      <th>BTC</th>\n",
       "      <td>4</td>\n",
       "      <td>1</td>\n",
       "    </tr>\n",
       "    <tr>\n",
       "      <th>...</th>\n",
       "      <th>...</th>\n",
       "      <td>...</td>\n",
       "      <td>...</td>\n",
       "    </tr>\n",
       "    <tr>\n",
       "      <th>2022-09-02</th>\n",
       "      <th>BTC</th>\n",
       "      <td>990950</td>\n",
       "      <td>270459</td>\n",
       "    </tr>\n",
       "    <tr>\n",
       "      <th>2022-09-03</th>\n",
       "      <th>BTC</th>\n",
       "      <td>942684</td>\n",
       "      <td>242450</td>\n",
       "    </tr>\n",
       "    <tr>\n",
       "      <th>2022-09-04</th>\n",
       "      <th>BTC</th>\n",
       "      <td>771504</td>\n",
       "      <td>204370</td>\n",
       "    </tr>\n",
       "    <tr>\n",
       "      <th>2022-09-05</th>\n",
       "      <th>BTC</th>\n",
       "      <td>936073</td>\n",
       "      <td>250026</td>\n",
       "    </tr>\n",
       "    <tr>\n",
       "      <th>2022-09-06</th>\n",
       "      <th>BTC</th>\n",
       "      <td>928333</td>\n",
       "      <td>267983</td>\n",
       "    </tr>\n",
       "  </tbody>\n",
       "</table>\n",
       "<p>4735 rows × 2 columns</p>\n",
       "</div>"
      ],
      "text/plain": [
       "                   add_act  tx_count\n",
       "date       ticker                   \n",
       "2009-01-12 BTC           8         7\n",
       "2009-01-14 BTC           4         1\n",
       "2009-01-15 BTC          14         8\n",
       "2009-01-16 BTC           6         2\n",
       "2009-01-18 BTC           4         1\n",
       "...                    ...       ...\n",
       "2022-09-02 BTC      990950    270459\n",
       "2022-09-03 BTC      942684    242450\n",
       "2022-09-04 BTC      771504    204370\n",
       "2022-09-05 BTC      936073    250026\n",
       "2022-09-06 BTC      928333    267983\n",
       "\n",
       "[4735 rows x 2 columns]"
      ]
     },
     "execution_count": 47,
     "metadata": {},
     "output_type": "execute_result"
    }
   ],
   "source": [
    "df"
   ]
  },
  {
   "cell_type": "code",
   "execution_count": null,
   "id": "7ed655a0",
   "metadata": {},
   "outputs": [],
   "source": []
  },
  {
   "cell_type": "code",
   "execution_count": null,
   "id": "56043f26",
   "metadata": {},
   "outputs": [],
   "source": [
    "set(df.index.droplevel(0).unique())"
   ]
  },
  {
   "cell_type": "code",
   "execution_count": null,
   "id": "d940f31e",
   "metadata": {},
   "outputs": [],
   "source": [
    "pd.Timestamp.utcnow().tz_localize(None) - df.index[-1][0] < pd.Timedelta(days=4)"
   ]
  },
  {
   "cell_type": "code",
   "execution_count": null,
   "id": "e2d6d0a1",
   "metadata": {},
   "outputs": [],
   "source": [
    "pd.Timestamp.utcnow().tz_localize(None)  - df.index[-1][0]"
   ]
  },
  {
   "cell_type": "code",
   "execution_count": null,
   "id": "107d3353",
   "metadata": {},
   "outputs": [],
   "source": []
  },
  {
   "cell_type": "code",
   "execution_count": null,
   "id": "a06fd64a",
   "metadata": {},
   "outputs": [],
   "source": []
  },
  {
   "cell_type": "code",
   "execution_count": null,
   "id": "bf625445",
   "metadata": {},
   "outputs": [],
   "source": [
    "df.unstack().close_adj.plot(figsize=(15,7))"
   ]
  },
  {
   "cell_type": "code",
   "execution_count": null,
   "id": "bd5b5c36",
   "metadata": {},
   "outputs": [],
   "source": [
    "df.index[-1][0]"
   ]
  },
  {
   "cell_type": "code",
   "execution_count": null,
   "id": "68ba48ac",
   "metadata": {},
   "outputs": [],
   "source": [
    "df"
   ]
  },
  {
   "cell_type": "code",
   "execution_count": null,
   "id": "5b608a98",
   "metadata": {},
   "outputs": [],
   "source": [
    "pd.Timestamp.utcnow().tz_localize(None) - df.index[-1][0] < pd.Timedelta(days=365)"
   ]
  },
  {
   "cell_type": "code",
   "execution_count": null,
   "id": "b6227554",
   "metadata": {},
   "outputs": [],
   "source": []
  }
 ],
 "metadata": {
  "kernelspec": {
   "display_name": "cryptodatapy",
   "language": "python",
   "name": "cryptodatapy"
  },
  "language_info": {
   "codemirror_mode": {
    "name": "ipython",
    "version": 3
   },
   "file_extension": ".py",
   "mimetype": "text/x-python",
   "name": "python",
   "nbconvert_exporter": "python",
   "pygments_lexer": "ipython3",
   "version": "3.9.12"
  }
 },
 "nbformat": 4,
 "nbformat_minor": 5
}
